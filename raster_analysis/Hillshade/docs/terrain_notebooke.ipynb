{
 "cells": [
  {
   "attachments": {},
   "cell_type": "markdown",
   "metadata": {},
   "source": [
    "#### Import GDAL"
   ]
  },
  {
   "cell_type": "code",
   "execution_count": 5,
   "metadata": {},
   "outputs": [],
   "source": [
    "from osgeo import gdal"
   ]
  },
  {
   "attachments": {},
   "cell_type": "markdown",
   "metadata": {},
   "source": [
    "#### Try to run gdal command to convert DEM to hillshade"
   ]
  },
  {
   "cell_type": "code",
   "execution_count": 2,
   "metadata": {},
   "outputs": [],
   "source": [
    "import subprocess"
   ]
  },
  {
   "cell_type": "code",
   "execution_count": 8,
   "metadata": {},
   "outputs": [
    {
     "data": {
      "text/plain": [
       "CompletedProcess(args='gdaldem hillshade D:\\\\Github\\\\GIS\\\\data\\\\tXMWVCpZYO1VBPMgc5VSPJsCp.tif D:\\\\Github\\\\GIS\\\\data\\\\openTopography_elev6.tif', returncode=0)"
      ]
     },
     "execution_count": 8,
     "metadata": {},
     "output_type": "execute_result"
    }
   ],
   "source": [
    "input_dem = r'D:\\Github\\GIS\\data\\tXMWVCpZYO1VBPMgc5VSPJsCp.tif'\n",
    "output_hillshade = r'D:\\Github\\GIS\\data\\openTopography_elev6.tif'\n",
    "command = f'gdaldem hillshade {input_dem} {output_hillshade}'\n",
    "subprocess.run(command, shell=True)"
   ]
  },
  {
   "attachments": {},
   "cell_type": "markdown",
   "metadata": {},
   "source": [
    "#### convert imgs format"
   ]
  },
  {
   "cell_type": "code",
   "execution_count": 7,
   "metadata": {},
   "outputs": [
    {
     "data": {
      "text/plain": [
       "CompletedProcess(args='gdal_translate -of JPEG D:\\\\Github\\\\GIS\\\\data\\\\ALPSMLC30_N021E039_hillshade.tif D:\\\\Github\\\\GIS\\\\data\\\\ALPSMLC30_N021E039_hillshades.jpg', returncode=0)"
      ]
     },
     "execution_count": 7,
     "metadata": {},
     "output_type": "execute_result"
    }
   ],
   "source": [
    "input_dem = r'D:\\Github\\GIS\\data\\ALPSMLC30_N021E039_hillshade.tif'\n",
    "output_hillshade = r'D:\\Github\\GIS\\data\\ALPSMLC30_N021E039_hillshades.jpg'\n",
    "command = f'gdal_translate -of JPEG {input_dem} {output_hillshade}'\n",
    "subprocess.run(command, shell=True)"
   ]
  },
  {
   "cell_type": "code",
   "execution_count": 9,
   "metadata": {},
   "outputs": [
    {
     "data": {
      "text/plain": [
       "CompletedProcess(args='gdal_contour -a elevation -i 200 D:\\\\Github\\\\GIS\\\\data\\\\ALPSMLC30_N021E039_hillshade.tif D:\\\\Github\\\\GIS\\\\data\\\\contour_200.geojson', returncode=0)"
      ]
     },
     "execution_count": 9,
     "metadata": {},
     "output_type": "execute_result"
    }
   ],
   "source": [
    "dem = r\"D:\\Github\\GIS\\data\\ALPSMLC30_N021E039_hillshade.tif\"\n",
    "output = r\"D:\\Github\\GIS\\data\\contour_200.geojson\"\n",
    "cmd = f\"gdal_contour -a elevation -i 100 {dem} {output}\"\n",
    "subprocess.run(cmd, shell=True)"
   ]
  },
  {
   "cell_type": "code",
   "execution_count": 13,
   "metadata": {},
   "outputs": [],
   "source": [
    "import landsatxplore \n",
    "from landsatxplore.api import API\n",
    "import subprocess"
   ]
  },
  {
   "cell_type": "code",
   "execution_count": 15,
   "metadata": {},
   "outputs": [
    {
     "data": {
      "text/plain": [
       "CompletedProcess(args='landsatxplore search --dataset landsat_tm_c2_l1 --location 21.5, 39.9 --start 1995-01-01 --end 2022-12-31', returncode=2)"
      ]
     },
     "execution_count": 15,
     "metadata": {},
     "output_type": "execute_result"
    }
   ],
   "source": [
    "command = f'landsatxplore search --dataset landsat_tm_c2_l1 --location 21.5, 39.9 --start 1995-01-01 --end 2022-12-31'\n",
    "subprocess.run(command, shell=True)"
   ]
  },
  {
   "cell_type": "code",
   "execution_count": 13,
   "metadata": {},
   "outputs": [
    {
     "data": {
      "text/plain": [
       "CompletedProcess(args='eodag search --productType S2_MSI_L1C --box 1 43 2 44 --start 2021-03-01 --end 2021-03-31eodag download  --search-results search_results.geojson', returncode=2)"
      ]
     },
     "execution_count": 13,
     "metadata": {},
     "output_type": "execute_result"
    }
   ],
   "source": [
    "# input_dem = r'D:\\Github\\GIS\\data\\ALPSMLC30_N021E039_hillshade.tif'\n",
    "# output_hillshade = r'D:\\Github\\GIS\\data\\ALPSMLC30_N021E039_hillshades.jpg'\n",
    "command = f'eodag search --productType S2_MSI_L1C --box 1 43 2 44 --start 2021-03-01 --end 2021-03-31eodag download --search-results search_results.geojson'\n",
    "subprocess.run(command, shell=True)"
   ]
  },
  {
   "cell_type": "code",
   "execution_count": 1,
   "metadata": {},
   "outputs": [
    {
     "name": "stderr",
     "output_type": "stream",
     "text": [
      "C:\\Users\\hossam.wakeb\\AppData\\Local\\Temp\\ipykernel_16108\\3668735058.py:1: DeprecationWarning: Shapely 2.0 is installed, but because PyGEOS is also installed, GeoPandas still uses PyGEOS by default. However, starting with version 0.14, the default will switch to Shapely. To force to use Shapely 2.0 now, you can either uninstall PyGEOS or set the environment variable USE_PYGEOS=0. You can do this before starting the Python process, or in your code before importing geopandas:\n",
      "\n",
      "import os\n",
      "os.environ['USE_PYGEOS'] = '0'\n",
      "import geopandas\n",
      "\n",
      "In the next release, GeoPandas will switch to using Shapely by default, even if PyGEOS is installed. If you only have PyGEOS installed to get speed-ups, this switch should be smooth. However, if you are using PyGEOS directly (calling PyGEOS functions on geometries from GeoPandas), this will then stop working and you are encouraged to migrate from PyGEOS to Shapely 2.0 (https://shapely.readthedocs.io/en/latest/migration_pygeos.html).\n",
      "  import geopandas as gpd\n"
     ]
    },
    {
     "data": {
      "text/plain": [
       "<Axes: >"
      ]
     },
     "execution_count": 1,
     "metadata": {},
     "output_type": "execute_result"
    },
    {
     "data": {
      "image/png": "[encoded data removed]",
      "text/plain": [
       "<Figure size 640x480 with 1 Axes>"
      ]
     },
     "metadata": {},
     "output_type": "display_data"
    }
   ],
   "source": [
    "import geopandas as gpd\n",
    "df = gpd.read_file(r\"D:\\Github\\GIS\\data\\contour.geojson\")\n",
    "df.plot()"
   ]
  },
  {
   "cell_type": "code",
   "execution_count": null,
   "metadata": {},
   "outputs": [],
   "source": [
    "n = 30.22656908627855, 32.542480441714446\n",
    "e = 30.07075410324833, 32.956926480302506\n",
    "s = 29.88397934934521, 32.554665499936576\n",
    "w = 30.0581290259504, 32.13973602505795"
   ]
  },
  {
   "cell_type": "code",
   "execution_count": 4,
   "metadata": {},
   "outputs": [
    {
     "name": "stdout",
     "output_type": "stream",
     "text": [
      "Elevation data downloaded successfully.\n"
     ]
    }
   ],
   "source": [
    "import requests\n",
    "request_url = f'https://portal.opentopography.org/API/globaldem?demtype=NASADEM&west=32.13973602505795&south=29.88397934934521&east=32.956926480302506&north=30.22656908627855&outputFormat=GTiff&API_Key=9365153072b4cdc3a56597c1b492cde3'\n",
    "response = requests.get(request_url)\n",
    "if response.status_code == 200:\n",
    "    with open('D:/Github/GIS/data/elevation5.tif', 'wb') as file:\n",
    "        file.write(response.content)\n",
    "    print('Elevation data downloaded successfully.')\n",
    "else:\n",
    "    print('Failed to download elevation data:', response.status_code)"
   ]
  }
 ],
 "metadata": {
  "kernelspec": {
   "display_name": "gis",
   "language": "python",
   "name": "python3"
  },
  "language_info": {
   "codemirror_mode": {
    "name": "ipython",
    "version": 3
   },
   "file_extension": ".py",
   "mimetype": "text/x-python",
   "name": "python",
   "nbconvert_exporter": "python",
   "pygments_lexer": "ipython3",
   "version": "3.9.16"
  },
  "orig_nbformat": 4
 },
 "nbformat": 4,
 "nbformat_minor": 2
}
